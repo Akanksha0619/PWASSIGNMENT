{
 "cells": [
  {
   "cell_type": "markdown",
   "id": "4baef6c9",
   "metadata": {},
   "source": [
    "Q1. How Do you comment code in python ?what are Different type of comment? Ans:- Comment are generally just like information about your code whose does not execute. There are two types of comment:-"
   ]
  },
  {
   "cell_type": "markdown",
   "id": "abbe88ed",
   "metadata": {},
   "source": [
    "1. single line comment(#)"
   ]
  },
  {
   "cell_type": "code",
   "execution_count": 1,
   "id": "6235eae2",
   "metadata": {},
   "outputs": [],
   "source": [
    "#THIS IS COMMENT"
   ]
  },
  {
   "cell_type": "markdown",
   "id": "01c7a715",
   "metadata": {},
   "source": [
    "2.Multiline Comment(''' ''')"
   ]
  },
  {
   "cell_type": "code",
   "execution_count": 2,
   "id": "949c5105",
   "metadata": {},
   "outputs": [
    {
     "data": {
      "text/plain": [
       "'this is our comment'"
      ]
     },
     "execution_count": 2,
     "metadata": {},
     "output_type": "execute_result"
    }
   ],
   "source": [
    "\"\"\"this is our comment\"\"\""
   ]
  },
  {
   "cell_type": "markdown",
   "id": "7170474c",
   "metadata": {},
   "source": [
    "Q2. What are variables in python? How do you declare and assign value to variable ? Ans:- variable:- variables are just like container whose contain the value. Declaration of variable:- variable are declare with alphanumeric,aphabets but not numeric."
   ]
  },
  {
   "cell_type": "code",
   "execution_count": 3,
   "id": "47d73d4f",
   "metadata": {},
   "outputs": [
    {
     "data": {
      "text/plain": [
       "'Akanksha'"
      ]
     },
     "execution_count": 3,
     "metadata": {},
     "output_type": "execute_result"
    }
   ],
   "source": [
    "a=\"Akanksha\"\n",
    "a"
   ]
  },
  {
   "cell_type": "code",
   "execution_count": 4,
   "id": "4d9e93db",
   "metadata": {},
   "outputs": [
    {
     "data": {
      "text/plain": [
       "'Marathe'"
      ]
     },
     "execution_count": 4,
     "metadata": {},
     "output_type": "execute_result"
    }
   ],
   "source": [
    "a1=\"Marathe\"\n",
    "a1"
   ]
  },
  {
   "cell_type": "code",
   "execution_count": 5,
   "id": "a0e76067",
   "metadata": {},
   "outputs": [
    {
     "ename": "SyntaxError",
     "evalue": "invalid syntax. Maybe you meant '==' or ':=' instead of '='? (8202361.py, line 1)",
     "output_type": "error",
     "traceback": [
      "\u001b[1;36m  Cell \u001b[1;32mIn[5], line 1\u001b[1;36m\u001b[0m\n\u001b[1;33m    @s=\"harry\" #Error It is not way to declare Variable\u001b[0m\n\u001b[1;37m     ^\u001b[0m\n\u001b[1;31mSyntaxError\u001b[0m\u001b[1;31m:\u001b[0m invalid syntax. Maybe you meant '==' or ':=' instead of '='?\n"
     ]
    }
   ],
   "source": [
    "@s=\"harry\" #Error It is not way to declare Variable\n",
    "@s"
   ]
  },
  {
   "cell_type": "code",
   "execution_count": 6,
   "id": "c7b974ec",
   "metadata": {},
   "outputs": [
    {
     "ename": "SyntaxError",
     "evalue": "cannot assign to literal here. Maybe you meant '==' instead of '='? (2767858136.py, line 1)",
     "output_type": "error",
     "traceback": [
      "\u001b[1;36m  Cell \u001b[1;32mIn[6], line 1\u001b[1;36m\u001b[0m\n\u001b[1;33m    1=\"akku\"#Error It is not way to declare Variable\u001b[0m\n\u001b[1;37m    ^\u001b[0m\n\u001b[1;31mSyntaxError\u001b[0m\u001b[1;31m:\u001b[0m cannot assign to literal here. Maybe you meant '==' instead of '='?\n"
     ]
    }
   ],
   "source": [
    "1=\"akku\"#Error It is not way to declare Variable\n",
    "1"
   ]
  },
  {
   "cell_type": "markdown",
   "id": "3d78c110",
   "metadata": {},
   "source": [
    "Q3.How do you convert one data type in python"
   ]
  },
  {
   "cell_type": "code",
   "execution_count": 7,
   "id": "9843b5b0",
   "metadata": {},
   "outputs": [
    {
     "name": "stdout",
     "output_type": "stream",
     "text": [
      "123\n"
     ]
    }
   ],
   "source": [
    "a=123 #Integer\n",
    "print(a)"
   ]
  },
  {
   "cell_type": "code",
   "execution_count": 8,
   "id": "646cd961",
   "metadata": {},
   "outputs": [
    {
     "data": {
      "text/plain": [
       "int"
      ]
     },
     "execution_count": 8,
     "metadata": {},
     "output_type": "execute_result"
    }
   ],
   "source": [
    "type(a)"
   ]
  },
  {
   "cell_type": "code",
   "execution_count": 9,
   "id": "6297ccec",
   "metadata": {},
   "outputs": [
    {
     "data": {
      "text/plain": [
       "'123'"
      ]
     },
     "execution_count": 9,
     "metadata": {},
     "output_type": "execute_result"
    }
   ],
   "source": [
    "str(a)           #string"
   ]
  },
  {
   "cell_type": "code",
   "execution_count": 10,
   "id": "1fba1307",
   "metadata": {},
   "outputs": [
    {
     "data": {
      "text/plain": [
       "int"
      ]
     },
     "execution_count": 10,
     "metadata": {},
     "output_type": "execute_result"
    }
   ],
   "source": [
    "type(a)"
   ]
  },
  {
   "cell_type": "code",
   "execution_count": 11,
   "id": "d0a126a4",
   "metadata": {},
   "outputs": [
    {
     "data": {
      "text/plain": [
       "str"
      ]
     },
     "execution_count": 11,
     "metadata": {},
     "output_type": "execute_result"
    }
   ],
   "source": [
    "type(str(a))"
   ]
  },
  {
   "cell_type": "markdown",
   "id": "99bef735",
   "metadata": {},
   "source": [
    "This is conversion of Int To string"
   ]
  },
  {
   "cell_type": "markdown",
   "id": "8d87360e",
   "metadata": {},
   "source": [
    "Q4. How do you write and Execute a python script from the command line ?"
   ]
  },
  {
   "cell_type": "markdown",
   "id": "1e37d161",
   "metadata": {},
   "source": [
    "To write and execute a Python script from the command line, follow these steps:\n",
    "\n",
    "Open a text editor and create a new file. Save it with a .py extension, for example, \"script.py\". This will be your Python script file.\n",
    "\n",
    "Open the command line or terminal on your operating system. The process may vary depending on your operating system:\n",
    "\n",
    "Windows: Press the Windows key, type \"Command Prompt\" or \"cmd\" in the search bar, and open the Command Prompt application."
   ]
  },
  {
   "cell_type": "code",
   "execution_count": 12,
   "id": "1b817364",
   "metadata": {},
   "outputs": [
    {
     "ename": "SyntaxError",
     "evalue": "invalid syntax (853240662.py, line 1)",
     "output_type": "error",
     "traceback": [
      "\u001b[1;36m  Cell \u001b[1;32mIn[12], line 1\u001b[1;36m\u001b[0m\n\u001b[1;33m    python script.py\u001b[0m\n\u001b[1;37m           ^\u001b[0m\n\u001b[1;31mSyntaxError\u001b[0m\u001b[1;31m:\u001b[0m invalid syntax\n"
     ]
    }
   ],
   "source": [
    "python script.py"
   ]
  },
  {
   "cell_type": "markdown",
   "id": "afd7f300",
   "metadata": {},
   "source": [
    "Q5.Given a list my_list =[1,2,3,4,5], write the code to slicethe vlist and obtainthe sublist[2,3]"
   ]
  },
  {
   "cell_type": "code",
   "execution_count": 14,
   "id": "410ebf1f",
   "metadata": {},
   "outputs": [
    {
     "data": {
      "text/plain": [
       "[2, 3]"
      ]
     },
     "execution_count": 14,
     "metadata": {},
     "output_type": "execute_result"
    }
   ],
   "source": [
    "my_list=[1,2,3,4,5]\n",
    "my_list[1:3]"
   ]
  },
  {
   "cell_type": "markdown",
   "id": "98f6be6e",
   "metadata": {},
   "source": [
    "Q6.what is complex no. in mathematics and how it is represented in python?"
   ]
  },
  {
   "cell_type": "raw",
   "id": "4c1bfb43",
   "metadata": {},
   "source": [
    "Ans:- complex is combination of both imaginary and real no.\n",
    "    5+8i\n",
    "    but in python 5+8j"
   ]
  },
  {
   "cell_type": "code",
   "execution_count": 16,
   "id": "a54ca279",
   "metadata": {},
   "outputs": [
    {
     "data": {
      "text/plain": [
       "complex"
      ]
     },
     "execution_count": 16,
     "metadata": {},
     "output_type": "execute_result"
    }
   ],
   "source": [
    "a=5+8j\n",
    "type(a)"
   ]
  },
  {
   "cell_type": "code",
   "execution_count": 17,
   "id": "e41f5ed5",
   "metadata": {},
   "outputs": [
    {
     "data": {
      "text/plain": [
       "8.0"
      ]
     },
     "execution_count": 17,
     "metadata": {},
     "output_type": "execute_result"
    }
   ],
   "source": [
    "a.imag"
   ]
  },
  {
   "cell_type": "code",
   "execution_count": 18,
   "id": "dd1e01ec",
   "metadata": {},
   "outputs": [
    {
     "data": {
      "text/plain": [
       "5.0"
      ]
     },
     "execution_count": 18,
     "metadata": {},
     "output_type": "execute_result"
    }
   ],
   "source": [
    "a.real"
   ]
  },
  {
   "cell_type": "markdown",
   "id": "58b87bbe",
   "metadata": {},
   "source": [
    "Q7 What are the correct way to declare a variable named age and assign the value 25 to it?"
   ]
  },
  {
   "cell_type": "code",
   "execution_count": 19,
   "id": "9cf06466",
   "metadata": {},
   "outputs": [
    {
     "data": {
      "text/plain": [
       "25"
      ]
     },
     "execution_count": 19,
     "metadata": {},
     "output_type": "execute_result"
    }
   ],
   "source": [
    "#Variable name is understandable by anyone and easily identify the real meaning of variable in particular code\n",
    "age=25\n",
    "age"
   ]
  },
  {
   "cell_type": "markdown",
   "id": "bae03027",
   "metadata": {},
   "source": [
    "Q8.Declare the variable named price and assign the value 9.99to it.what data type this variable belonds to it?"
   ]
  },
  {
   "cell_type": "code",
   "execution_count": 20,
   "id": "7c40fe8d",
   "metadata": {},
   "outputs": [
    {
     "data": {
      "text/plain": [
       "float"
      ]
     },
     "execution_count": 20,
     "metadata": {},
     "output_type": "execute_result"
    }
   ],
   "source": [
    "price=9.99\n",
    "type(price)"
   ]
  },
  {
   "cell_type": "markdown",
   "id": "cd778882",
   "metadata": {},
   "source": [
    "Q9. Create a variable named name and assign the full name to it as string .How would you print the value of this variable?"
   ]
  },
  {
   "cell_type": "code",
   "execution_count": 22,
   "id": "294265be",
   "metadata": {},
   "outputs": [
    {
     "name": "stdout",
     "output_type": "stream",
     "text": [
      "Akanksha Marathe\n",
      "<class 'str'>\n"
     ]
    }
   ],
   "source": [
    "Name=\"Akanksha Marathe\"\n",
    "print(Name)\n",
    "print(type(Name))"
   ]
  },
  {
   "cell_type": "markdown",
   "id": "54d912fa",
   "metadata": {},
   "source": [
    "Q10. Given the string \"hello world\",extract the substring \"world\""
   ]
  },
  {
   "cell_type": "code",
   "execution_count": 23,
   "id": "4a88f7a9",
   "metadata": {},
   "outputs": [
    {
     "data": {
      "text/plain": [
       "'World'"
      ]
     },
     "execution_count": 23,
     "metadata": {},
     "output_type": "execute_result"
    }
   ],
   "source": [
    "string=\"Hello,World!\"\n",
    "string[6:11]"
   ]
  },
  {
   "cell_type": "code",
   "execution_count": 24,
   "id": "38c0703e",
   "metadata": {},
   "outputs": [
    {
     "data": {
      "text/plain": [
       "'World'"
      ]
     },
     "execution_count": 24,
     "metadata": {},
     "output_type": "execute_result"
    }
   ],
   "source": [
    "string[-6:-1]"
   ]
  },
  {
   "cell_type": "markdown",
   "id": "e83d2b23",
   "metadata": {},
   "source": [
    "Q.11 Create a variable named is \"is_student\" and assign it a boolean value indicating whether you arr currently student or not"
   ]
  },
  {
   "cell_type": "code",
   "execution_count": 27,
   "id": "897b51c6",
   "metadata": {},
   "outputs": [
    {
     "name": "stdout",
     "output_type": "stream",
     "text": [
      "ENTER ONLY BOOLEAN VALUE56\n",
      "PRINT YOU ARE STUDENT\n"
     ]
    }
   ],
   "source": [
    "is_student=bool(input(\"ENTER ONLY BOOLEAN VALUE\"))\n",
    "if is_student==True:\n",
    "    print(\"PRINT YOU ARE STUDENT\")\n",
    "else:\n",
    "    print(\"NOT\")"
   ]
  },
  {
   "cell_type": "code",
   "execution_count": null,
   "id": "3e35602f",
   "metadata": {},
   "outputs": [],
   "source": []
  }
 ],
 "metadata": {
  "kernelspec": {
   "display_name": "Python 3 (ipykernel)",
   "language": "python",
   "name": "python3"
  },
  "language_info": {
   "codemirror_mode": {
    "name": "ipython",
    "version": 3
   },
   "file_extension": ".py",
   "mimetype": "text/x-python",
   "name": "python",
   "nbconvert_exporter": "python",
   "pygments_lexer": "ipython3",
   "version": "3.10.9"
  }
 },
 "nbformat": 4,
 "nbformat_minor": 5
}
