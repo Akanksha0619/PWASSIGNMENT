{
 "cells": [
  {
   "cell_type": "markdown",
   "id": "402c3e70",
   "metadata": {},
   "source": [
    "# Q1 Create one variable containing following type of data:"
   ]
  },
  {
   "cell_type": "markdown",
   "id": "f9021ada",
   "metadata": {},
   "source": [
    "### (i) String"
   ]
  },
  {
   "cell_type": "code",
   "execution_count": 1,
   "id": "f8791432",
   "metadata": {},
   "outputs": [],
   "source": [
    "a='akanksha'"
   ]
  },
  {
   "cell_type": "code",
   "execution_count": 2,
   "id": "d087200d",
   "metadata": {},
   "outputs": [
    {
     "data": {
      "text/plain": [
       "'akanksha'"
      ]
     },
     "execution_count": 2,
     "metadata": {},
     "output_type": "execute_result"
    }
   ],
   "source": [
    "a"
   ]
  },
  {
   "cell_type": "markdown",
   "id": "93c4e698",
   "metadata": {},
   "source": [
    "### (ii) List"
   ]
  },
  {
   "cell_type": "code",
   "execution_count": 3,
   "id": "6e9bbfa7",
   "metadata": {},
   "outputs": [],
   "source": [
    "list1=[120,'shayam',56.87,'gita']"
   ]
  },
  {
   "cell_type": "code",
   "execution_count": 4,
   "id": "91be08a4",
   "metadata": {},
   "outputs": [
    {
     "data": {
      "text/plain": [
       "[120, 'shayam', 56.87, 'gita']"
      ]
     },
     "execution_count": 4,
     "metadata": {},
     "output_type": "execute_result"
    }
   ],
   "source": [
    "list1"
   ]
  },
  {
   "cell_type": "markdown",
   "id": "746f7acf",
   "metadata": {},
   "source": [
    "### (iii) Float"
   ]
  },
  {
   "cell_type": "code",
   "execution_count": 5,
   "id": "71da37b9",
   "metadata": {},
   "outputs": [],
   "source": [
    "b=456.09"
   ]
  },
  {
   "cell_type": "code",
   "execution_count": 6,
   "id": "835e3106",
   "metadata": {},
   "outputs": [
    {
     "data": {
      "text/plain": [
       "456.09"
      ]
     },
     "execution_count": 6,
     "metadata": {},
     "output_type": "execute_result"
    }
   ],
   "source": [
    "b"
   ]
  },
  {
   "cell_type": "markdown",
   "id": "35249e88",
   "metadata": {},
   "source": [
    "### (iv) Tuple"
   ]
  },
  {
   "cell_type": "code",
   "execution_count": 7,
   "id": "aa2faf99",
   "metadata": {},
   "outputs": [],
   "source": [
    "tuple1=(2,4,5,7,3)"
   ]
  },
  {
   "cell_type": "code",
   "execution_count": 8,
   "id": "fe4b3d4b",
   "metadata": {},
   "outputs": [
    {
     "data": {
      "text/plain": [
       "(2, 4, 5, 7, 3)"
      ]
     },
     "execution_count": 8,
     "metadata": {},
     "output_type": "execute_result"
    }
   ],
   "source": [
    "tuple1"
   ]
  },
  {
   "cell_type": "markdown",
   "id": "ae372fac",
   "metadata": {},
   "source": [
    "# Q2 Given are some following variables containing data:"
   ]
  },
  {
   "cell_type": "markdown",
   "id": "4d1e1562",
   "metadata": {},
   "source": [
    "### (i) var1=' '"
   ]
  },
  {
   "cell_type": "markdown",
   "id": "66991b15",
   "metadata": {},
   "source": [
    "#### It is a string-type variables(str). We have used double or single quotes to represent string."
   ]
  },
  {
   "cell_type": "markdown",
   "id": "d87e2345",
   "metadata": {},
   "source": [
    "### (ii) var2='[DS','ML','Python' ]"
   ]
  },
  {
   "cell_type": "markdown",
   "id": "86b1cb11",
   "metadata": {},
   "source": [
    "#### It is a string-type variable."
   ]
  },
  {
   "cell_type": "markdown",
   "id": "47f9de6a",
   "metadata": {},
   "source": [
    "### (iii) var3 = ['DS','ML','python']"
   ]
  },
  {
   "cell_type": "markdown",
   "id": "b08749df",
   "metadata": {},
   "source": [
    "#### It is a list type variable."
   ]
  },
  {
   "cell_type": "markdown",
   "id": "584f0671",
   "metadata": {},
   "source": [
    "### (iv) var4 = 1."
   ]
  },
  {
   "cell_type": "markdown",
   "id": "3ffb1dd5",
   "metadata": {},
   "source": [
    "#### It is a int type variable."
   ]
  },
  {
   "cell_type": "markdown",
   "id": "6ece1102",
   "metadata": {},
   "source": [
    "# Q4 Create a list of length 10 of your choice cointaing multiple types of data. using for loop print the element and its data type."
   ]
  },
  {
   "cell_type": "code",
   "execution_count": 2,
   "id": "3c15e25a",
   "metadata": {},
   "outputs": [
    {
     "name": "stdout",
     "output_type": "stream",
     "text": [
      "45\n",
      "<class 'int'>\n",
      "6.5\n",
      "<class 'float'>\n",
      "jay\n",
      "<class 'str'>\n",
      "True\n",
      "<class 'bool'>\n",
      "sita\n",
      "<class 'str'>\n",
      "2\n",
      "<class 'int'>\n",
      "False\n",
      "<class 'bool'>\n",
      "4\n",
      "<class 'int'>\n",
      "ram\n",
      "<class 'str'>\n",
      "3\n",
      "<class 'int'>\n"
     ]
    }
   ],
   "source": [
    "a=[45,6.5,'jay',True,'sita',2,False, 4,'ram',3]\n",
    "for i in a:\n",
    "    print(i)\n",
    "    print(type(i))\n"
   ]
  },
  {
   "cell_type": "markdown",
   "id": "37d11d8b",
   "metadata": {},
   "source": [
    "# Q.3 Explain following operator"
   ]
  },
  {
   "cell_type": "code",
   "execution_count": 6,
   "id": "ac5a9271",
   "metadata": {},
   "outputs": [],
   "source": [
    "#1. Division(/)\n",
    "d=4/2"
   ]
  },
  {
   "cell_type": "code",
   "execution_count": 7,
   "id": "b1cc9cf0",
   "metadata": {},
   "outputs": [
    {
     "data": {
      "text/plain": [
       "2.0"
      ]
     },
     "execution_count": 7,
     "metadata": {},
     "output_type": "execute_result"
    }
   ],
   "source": [
    "d"
   ]
  },
  {
   "cell_type": "code",
   "execution_count": 8,
   "id": "b9b95db6",
   "metadata": {},
   "outputs": [
    {
     "data": {
      "text/plain": [
       "1"
      ]
     },
     "execution_count": 8,
     "metadata": {},
     "output_type": "execute_result"
    }
   ],
   "source": [
    "#2. modulus(%) it givn remainder value \n",
    "m = 5%2\n",
    "m"
   ]
  },
  {
   "cell_type": "code",
   "execution_count": 9,
   "id": "16f69bbd",
   "metadata": {},
   "outputs": [],
   "source": [
    "#4.** used for power calculation"
   ]
  },
  {
   "cell_type": "code",
   "execution_count": 10,
   "id": "afe8c1be",
   "metadata": {},
   "outputs": [],
   "source": [
    "p=9**3"
   ]
  },
  {
   "cell_type": "code",
   "execution_count": 11,
   "id": "111dd1bc",
   "metadata": {},
   "outputs": [
    {
     "data": {
      "text/plain": [
       "729"
      ]
     },
     "execution_count": 11,
     "metadata": {},
     "output_type": "execute_result"
    }
   ],
   "source": [
    "p"
   ]
  },
  {
   "cell_type": "markdown",
   "id": "73e025d5",
   "metadata": {},
   "source": [
    "### Q.5 using a whlie loop. Verify if the number A  is purely divisible by number B and if then how many times it can be divisible."
   ]
  },
  {
   "cell_type": "code",
   "execution_count": 12,
   "id": "3c904cdc",
   "metadata": {},
   "outputs": [
    {
     "name": "stdout",
     "output_type": "stream",
     "text": [
      "not divisible\n"
     ]
    }
   ],
   "source": [
    "A= 63\n",
    "B=2\n",
    "i=0\n",
    "while A%B ==0:\n",
    "    A=A/B\n",
    "    i=i+1\n",
    "if A ==1:\n",
    "    print (\"A is purely divisible \",i, \"times\")\n",
    "else:\n",
    "    print(\"not divisible\")\n",
    "    \n",
    "    "
   ]
  },
  {
   "cell_type": "markdown",
   "id": "646a2d35",
   "metadata": {},
   "source": [
    "### Q.6 Create a list containing 25 int type data item. using for loop and if condition print if the element is divisible by 3 or not "
   ]
  },
  {
   "cell_type": "code",
   "execution_count": 13,
   "id": "974d2c6d",
   "metadata": {},
   "outputs": [
    {
     "name": "stdout",
     "output_type": "stream",
     "text": [
      "1 not divisible by 3\n",
      "2 not divisible by 3\n",
      "3 is divisible by 3\n",
      "4 not divisible by 3\n",
      "5 not divisible by 3\n",
      "6 is divisible by 3\n",
      "7 not divisible by 3\n",
      "8 not divisible by 3\n",
      "9 is divisible by 3\n",
      "10 not divisible by 3\n",
      "11 not divisible by 3\n",
      "12 is divisible by 3\n",
      "13 not divisible by 3\n",
      "14 not divisible by 3\n",
      "15 is divisible by 3\n",
      "16 not divisible by 3\n",
      "17 not divisible by 3\n",
      "18 is divisible by 3\n",
      "19 not divisible by 3\n",
      "20 not divisible by 3\n",
      "21 is divisible by 3\n",
      "22 not divisible by 3\n",
      "23 not divisible by 3\n",
      "24 is divisible by 3\n",
      "25 not divisible by 3\n"
     ]
    }
   ],
   "source": [
    "N = [1,2,3,4,5,6,7,8,9,10,11,12,13,14,15,16,17,18,19,20,21,22,23,24,25]\n",
    "for i in N:\n",
    "    if i%3 ==0:\n",
    "        print(i,\"is divisible by 3\")\n",
    "    else:\n",
    "        print(i,\"not divisible by 3\")"
   ]
  },
  {
   "cell_type": "markdown",
   "id": "6d151da4",
   "metadata": {},
   "source": [
    "### Q.7 What do you understand about mutable and immutable data type? Give examples for both this property."
   ]
  },
  {
   "cell_type": "markdown",
   "id": "27140b7b",
   "metadata": {},
   "source": [
    "#### Mutable :- mutable object can be changed after it is created without changing its identity \n",
    "#### Example:- list,set"
   ]
  },
  {
   "cell_type": "markdown",
   "id": "c251f1ab",
   "metadata": {},
   "source": [
    "#### Immutable:- immutable datatypes are objects that cannot be modified after they have been created.\n",
    "#### Example :- int, string ,complex"
   ]
  },
  {
   "cell_type": "code",
   "execution_count": 16,
   "id": "938b627a",
   "metadata": {},
   "outputs": [
    {
     "data": {
      "text/plain": [
       "[2, 8, 'apple']"
      ]
     },
     "execution_count": 16,
     "metadata": {},
     "output_type": "execute_result"
    }
   ],
   "source": [
    "my_list =[2,5,'apple']\n",
    "my_list[1]=8\n",
    "my_list"
   ]
  },
  {
   "cell_type": "code",
   "execution_count": 17,
   "id": "a83debbc",
   "metadata": {},
   "outputs": [
    {
     "data": {
      "text/plain": [
       "'t'"
      ]
     },
     "execution_count": 17,
     "metadata": {},
     "output_type": "execute_result"
    }
   ],
   "source": [
    "s='nootbook'\n",
    "s[3]\n"
   ]
  },
  {
   "cell_type": "code",
   "execution_count": 18,
   "id": "27b4fc48",
   "metadata": {},
   "outputs": [
    {
     "ename": "TypeError",
     "evalue": "'str' object does not support item assignment",
     "output_type": "error",
     "traceback": [
      "\u001b[1;31m---------------------------------------------------------------------------\u001b[0m",
      "\u001b[1;31mTypeError\u001b[0m                                 Traceback (most recent call last)",
      "Cell \u001b[1;32mIn[18], line 1\u001b[0m\n\u001b[1;32m----> 1\u001b[0m s[\u001b[38;5;241m3\u001b[39m]\u001b[38;5;241m=\u001b[39mi\n",
      "\u001b[1;31mTypeError\u001b[0m: 'str' object does not support item assignment"
     ]
    }
   ],
   "source": [
    "s[3]=i"
   ]
  },
  {
   "cell_type": "code",
   "execution_count": null,
   "id": "6f4a45f8",
   "metadata": {},
   "outputs": [],
   "source": []
  }
 ],
 "metadata": {
  "kernelspec": {
   "display_name": "Python 3 (ipykernel)",
   "language": "python",
   "name": "python3"
  },
  "language_info": {
   "codemirror_mode": {
    "name": "ipython",
    "version": 3
   },
   "file_extension": ".py",
   "mimetype": "text/x-python",
   "name": "python",
   "nbconvert_exporter": "python",
   "pygments_lexer": "ipython3",
   "version": "3.10.9"
  }
 },
 "nbformat": 4,
 "nbformat_minor": 5
}
